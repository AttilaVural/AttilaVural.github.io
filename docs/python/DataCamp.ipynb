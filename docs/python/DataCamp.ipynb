{
 "cells": [
  {
   "cell_type": "markdown",
   "id": "d2a6b71d",
   "metadata": {},
   "source": [
    "## Instructions\n",
    "\n",
    "● Use Python or R to perform the tasks required.\n",
    "\n",
    "● Write your solutions in the workspace provided from your certification page.\n",
    "\n",
    "● Include all of the visualizations you create to complete the tasks.\n",
    "\n",
    "● Visualizations must be visible in the published version of the workspace. Links to external visualizations will not be accepted.\n",
    "\n",
    "● You do not need to include code unless the question says you must.\n",
    "\n",
    "● You must pass all criteria to pass this exam. The full criteria can be found here.\n"
   ]
  },
  {
   "cell_type": "markdown",
   "id": "61c35db6",
   "metadata": {},
   "source": [
    "## Introduction\n",
    "GoalZone is a fitness club chain in Canada.\n",
    "\n",
    "GoalZone offers a range of fitness classes in two capacities - 25 and 15.\n",
    "\n",
    "Some classes are always fully booked. Fully booked classes often have a low attendance rate.\n",
    "\n",
    "GoalZone wants to increase the number of spaces available for classes.\n",
    "\n",
    "They want to do this by predicting whether the member will attend the class or not.\n",
    "\n",
    "If they can predict a member will not attend the class, they can make another space available.\n"
   ]
  },
  {
   "cell_type": "markdown",
   "id": "5416d3a5",
   "metadata": {},
   "source": [
    "## Initialize and load data"
   ]
  },
  {
   "cell_type": "code",
   "execution_count": 2,
   "id": "50e8bfe6",
   "metadata": {},
   "outputs": [
    {
     "name": "stdout",
     "output_type": "stream",
     "text": [
      "\n",
      "The dataset has 1500 rows and 8 columns.\n",
      "\n"
     ]
    },
    {
     "data": {
      "text/html": [
       "<div>\n",
       "<style scoped>\n",
       "    .dataframe tbody tr th:only-of-type {\n",
       "        vertical-align: middle;\n",
       "    }\n",
       "\n",
       "    .dataframe tbody tr th {\n",
       "        vertical-align: top;\n",
       "    }\n",
       "\n",
       "    .dataframe thead th {\n",
       "        text-align: right;\n",
       "    }\n",
       "</style>\n",
       "<table border=\"1\" class=\"dataframe\">\n",
       "  <thead>\n",
       "    <tr style=\"text-align: right;\">\n",
       "      <th></th>\n",
       "      <th>booking_id</th>\n",
       "      <th>months_as_member</th>\n",
       "      <th>weight</th>\n",
       "      <th>days_before</th>\n",
       "      <th>day_of_week</th>\n",
       "      <th>time</th>\n",
       "      <th>category</th>\n",
       "      <th>attended</th>\n",
       "    </tr>\n",
       "  </thead>\n",
       "  <tbody>\n",
       "    <tr>\n",
       "      <th>0</th>\n",
       "      <td>1</td>\n",
       "      <td>17</td>\n",
       "      <td>79.56</td>\n",
       "      <td>8</td>\n",
       "      <td>Wed</td>\n",
       "      <td>PM</td>\n",
       "      <td>Strength</td>\n",
       "      <td>0</td>\n",
       "    </tr>\n",
       "    <tr>\n",
       "      <th>1</th>\n",
       "      <td>2</td>\n",
       "      <td>10</td>\n",
       "      <td>79.01</td>\n",
       "      <td>2</td>\n",
       "      <td>Mon</td>\n",
       "      <td>AM</td>\n",
       "      <td>HIIT</td>\n",
       "      <td>0</td>\n",
       "    </tr>\n",
       "    <tr>\n",
       "      <th>2</th>\n",
       "      <td>3</td>\n",
       "      <td>16</td>\n",
       "      <td>74.53</td>\n",
       "      <td>14</td>\n",
       "      <td>Sun</td>\n",
       "      <td>AM</td>\n",
       "      <td>Strength</td>\n",
       "      <td>0</td>\n",
       "    </tr>\n",
       "    <tr>\n",
       "      <th>3</th>\n",
       "      <td>4</td>\n",
       "      <td>5</td>\n",
       "      <td>86.12</td>\n",
       "      <td>10</td>\n",
       "      <td>Fri</td>\n",
       "      <td>AM</td>\n",
       "      <td>Cycling</td>\n",
       "      <td>0</td>\n",
       "    </tr>\n",
       "    <tr>\n",
       "      <th>4</th>\n",
       "      <td>5</td>\n",
       "      <td>15</td>\n",
       "      <td>69.29</td>\n",
       "      <td>8</td>\n",
       "      <td>Thu</td>\n",
       "      <td>AM</td>\n",
       "      <td>HIIT</td>\n",
       "      <td>0</td>\n",
       "    </tr>\n",
       "  </tbody>\n",
       "</table>\n",
       "</div>"
      ],
      "text/plain": [
       "   booking_id  months_as_member  weight days_before day_of_week time  \\\n",
       "0           1                17   79.56           8         Wed   PM   \n",
       "1           2                10   79.01           2         Mon   AM   \n",
       "2           3                16   74.53          14         Sun   AM   \n",
       "3           4                 5   86.12          10         Fri   AM   \n",
       "4           5                15   69.29           8         Thu   AM   \n",
       "\n",
       "   category  attended  \n",
       "0  Strength         0  \n",
       "1      HIIT         0  \n",
       "2  Strength         0  \n",
       "3   Cycling         0  \n",
       "4      HIIT         0  "
      ]
     },
     "execution_count": 2,
     "metadata": {},
     "output_type": "execute_result"
    }
   ],
   "source": [
    "# import all needed libraries\n",
    "\n",
    "import numpy as np\n",
    "import pandas as pd\n",
    "import matplotlib.pyplot as plt\n",
    "import seaborn as sns\n",
    "\n",
    "# read the data - contains each record when a member registered for a fitness class.\n",
    "\n",
    "df = pd.read_csv(\"fitness_class_2212.csv\")\n",
    "\n",
    "# print the number of rows & columns\n",
    "\n",
    "print(\"\\nThe dataset has {} rows and {} columns.\\n\".format(df.shape[0], df.shape[1]))\n",
    "\n",
    "# view the first few rows\n",
    "\n",
    "df.head()"
   ]
  },
  {
   "cell_type": "markdown",
   "id": "c5664eb5",
   "metadata": {},
   "source": [
    "## Data Validation"
   ]
  },
  {
   "cell_type": "markdown",
   "id": "e449ced8",
   "metadata": {},
   "source": [
    "**Original dataset**"
   ]
  },
  {
   "cell_type": "code",
   "execution_count": 3,
   "id": "01eeb8bd",
   "metadata": {},
   "outputs": [
    {
     "name": "stdout",
     "output_type": "stream",
     "text": [
      "<class 'pandas.core.frame.DataFrame'>\n",
      "RangeIndex: 1500 entries, 0 to 1499\n",
      "Data columns (total 8 columns):\n",
      " #   Column            Non-Null Count  Dtype  \n",
      "---  ------            --------------  -----  \n",
      " 0   booking_id        1500 non-null   int64  \n",
      " 1   months_as_member  1500 non-null   int64  \n",
      " 2   weight            1480 non-null   float64\n",
      " 3   days_before       1500 non-null   object \n",
      " 4   day_of_week       1500 non-null   object \n",
      " 5   time              1500 non-null   object \n",
      " 6   category          1500 non-null   object \n",
      " 7   attended          1500 non-null   int64  \n",
      "dtypes: float64(1), int64(3), object(4)\n",
      "memory usage: 93.9+ KB\n"
     ]
    }
   ],
   "source": [
    "# Data Validation\n",
    "# Check all variables in the data against the criteria in the dataset above\n",
    "\n",
    "df.info()"
   ]
  },
  {
   "cell_type": "markdown",
   "id": "a41f190e",
   "metadata": {},
   "source": [
    "**Missing Data**"
   ]
  },
  {
   "cell_type": "code",
   "execution_count": 4,
   "id": "f2470abe",
   "metadata": {},
   "outputs": [
    {
     "data": {
      "text/plain": [
       "booking_id           0\n",
       "months_as_member     0\n",
       "weight              20\n",
       "days_before          0\n",
       "day_of_week          0\n",
       "time                 0\n",
       "category             0\n",
       "attended             0\n",
       "dtype: int64"
      ]
     },
     "execution_count": 4,
     "metadata": {},
     "output_type": "execute_result"
    }
   ],
   "source": [
    "# the counts of missing values in each column\n",
    "\n",
    "df.isna().sum()"
   ]
  },
  {
   "cell_type": "markdown",
   "id": "80f0b195",
   "metadata": {},
   "source": [
    "**Unique Values for Categorical Variables & MAX and MIN for Numeric Values**"
   ]
  },
  {
   "cell_type": "code",
   "execution_count": 7,
   "id": "16f42943",
   "metadata": {},
   "outputs": [
    {
     "name": "stdout",
     "output_type": "stream",
     "text": [
      "\n",
      "Unique categories:\n",
      "\n",
      "day_of_week:  ['Wed', 'Mon', 'Sun', 'Fri', 'Thu', 'Wednesday', 'Fri.', 'Tue', 'Sat', 'Monday']\n",
      "time:  ['PM', 'AM']\n",
      "category:  ['Strength', 'HIIT', 'Cycling', 'Yoga', '-', 'Aqua']\n",
      "attended:  [0, 1]\n",
      "\n",
      "Numeric values:\n",
      "\n",
      "Max & min booking id:  1500 & 1\n",
      "Max & min months_as_member:  148 & 1\n",
      "Max & min weight:  170.52 & 55.41\n",
      "Max & min days_before:  9 & 1 \n",
      "\n"
     ]
    }
   ],
   "source": [
    "# datasets columns with their unique and numeric values each\n",
    "\n",
    "print(\"\\nUnique categories:\\n\")\n",
    "print(\"day_of_week: \", df.day_of_week.unique().tolist())\n",
    "print(\"time: \", df.time.unique().tolist())\n",
    "print(\"category: \", df.category.unique().tolist())\n",
    "print(\"attended: \", df.attended.unique().tolist())\n",
    "\n",
    "print(\"\\nNumeric values:\\n\")\n",
    "print(\"Max & min booking id: \", df.booking_id.max(), \"&\", df.booking_id.min())\n",
    "print(\"Max & min months_as_member: \", df.months_as_member.max(), \"&\", df.months_as_member.min())\n",
    "print(\"Max & min weight: \", df.weight.max(), \"&\", df.weight.min())\n",
    "print(\"Max & min days_before: \", df.days_before.max(), \"&\", df.days_before.min(), \"\\n\")"
   ]
  },
  {
   "cell_type": "markdown",
   "id": "01ae89ed",
   "metadata": {},
   "source": [
    "**Correcting values**"
   ]
  },
  {
   "cell_type": "code",
   "execution_count": null,
   "id": "d0b92ece",
   "metadata": {},
   "outputs": [],
   "source": []
  },
  {
   "cell_type": "markdown",
   "id": "f859f227",
   "metadata": {},
   "source": [
    "**A Post-correction Data Description**"
   ]
  },
  {
   "cell_type": "code",
   "execution_count": 8,
   "id": "1bd77247",
   "metadata": {},
   "outputs": [
    {
     "data": {
      "text/html": [
       "<div>\n",
       "<style scoped>\n",
       "    .dataframe tbody tr th:only-of-type {\n",
       "        vertical-align: middle;\n",
       "    }\n",
       "\n",
       "    .dataframe tbody tr th {\n",
       "        vertical-align: top;\n",
       "    }\n",
       "\n",
       "    .dataframe thead th {\n",
       "        text-align: right;\n",
       "    }\n",
       "</style>\n",
       "<table border=\"1\" class=\"dataframe\">\n",
       "  <thead>\n",
       "    <tr style=\"text-align: right;\">\n",
       "      <th></th>\n",
       "      <th>booking_id</th>\n",
       "      <th>months_as_member</th>\n",
       "      <th>weight</th>\n",
       "      <th>days_before</th>\n",
       "      <th>day_of_week</th>\n",
       "      <th>time</th>\n",
       "      <th>category</th>\n",
       "      <th>attended</th>\n",
       "    </tr>\n",
       "  </thead>\n",
       "  <tbody>\n",
       "    <tr>\n",
       "      <th>count</th>\n",
       "      <td>1500.0</td>\n",
       "      <td>1500.0</td>\n",
       "      <td>1480.0</td>\n",
       "      <td>1500</td>\n",
       "      <td>1500</td>\n",
       "      <td>1500</td>\n",
       "      <td>1500</td>\n",
       "      <td>1500.0</td>\n",
       "    </tr>\n",
       "    <tr>\n",
       "      <th>unique</th>\n",
       "      <td></td>\n",
       "      <td></td>\n",
       "      <td></td>\n",
       "      <td>31</td>\n",
       "      <td>10</td>\n",
       "      <td>2</td>\n",
       "      <td>6</td>\n",
       "      <td></td>\n",
       "    </tr>\n",
       "    <tr>\n",
       "      <th>top</th>\n",
       "      <td></td>\n",
       "      <td></td>\n",
       "      <td></td>\n",
       "      <td>10</td>\n",
       "      <td>Fri</td>\n",
       "      <td>AM</td>\n",
       "      <td>HIIT</td>\n",
       "      <td></td>\n",
       "    </tr>\n",
       "    <tr>\n",
       "      <th>freq</th>\n",
       "      <td></td>\n",
       "      <td></td>\n",
       "      <td></td>\n",
       "      <td>293</td>\n",
       "      <td>279</td>\n",
       "      <td>1141</td>\n",
       "      <td>667</td>\n",
       "      <td></td>\n",
       "    </tr>\n",
       "    <tr>\n",
       "      <th>mean</th>\n",
       "      <td>750.5</td>\n",
       "      <td>15.628667</td>\n",
       "      <td>82.610378</td>\n",
       "      <td></td>\n",
       "      <td></td>\n",
       "      <td></td>\n",
       "      <td></td>\n",
       "      <td>0.302667</td>\n",
       "    </tr>\n",
       "    <tr>\n",
       "      <th>std</th>\n",
       "      <td>433.157015</td>\n",
       "      <td>12.926543</td>\n",
       "      <td>12.765859</td>\n",
       "      <td></td>\n",
       "      <td></td>\n",
       "      <td></td>\n",
       "      <td></td>\n",
       "      <td>0.459565</td>\n",
       "    </tr>\n",
       "    <tr>\n",
       "      <th>min</th>\n",
       "      <td>1.0</td>\n",
       "      <td>1.0</td>\n",
       "      <td>55.41</td>\n",
       "      <td></td>\n",
       "      <td></td>\n",
       "      <td></td>\n",
       "      <td></td>\n",
       "      <td>0.0</td>\n",
       "    </tr>\n",
       "    <tr>\n",
       "      <th>25%</th>\n",
       "      <td>375.75</td>\n",
       "      <td>8.0</td>\n",
       "      <td>73.49</td>\n",
       "      <td></td>\n",
       "      <td></td>\n",
       "      <td></td>\n",
       "      <td></td>\n",
       "      <td>0.0</td>\n",
       "    </tr>\n",
       "    <tr>\n",
       "      <th>50%</th>\n",
       "      <td>750.5</td>\n",
       "      <td>12.0</td>\n",
       "      <td>80.76</td>\n",
       "      <td></td>\n",
       "      <td></td>\n",
       "      <td></td>\n",
       "      <td></td>\n",
       "      <td>0.0</td>\n",
       "    </tr>\n",
       "    <tr>\n",
       "      <th>75%</th>\n",
       "      <td>1125.25</td>\n",
       "      <td>19.0</td>\n",
       "      <td>89.52</td>\n",
       "      <td></td>\n",
       "      <td></td>\n",
       "      <td></td>\n",
       "      <td></td>\n",
       "      <td>1.0</td>\n",
       "    </tr>\n",
       "    <tr>\n",
       "      <th>max</th>\n",
       "      <td>1500.0</td>\n",
       "      <td>148.0</td>\n",
       "      <td>170.52</td>\n",
       "      <td></td>\n",
       "      <td></td>\n",
       "      <td></td>\n",
       "      <td></td>\n",
       "      <td>1.0</td>\n",
       "    </tr>\n",
       "  </tbody>\n",
       "</table>\n",
       "</div>"
      ],
      "text/plain": [
       "        booking_id months_as_member     weight days_before day_of_week  time  \\\n",
       "count       1500.0           1500.0     1480.0        1500        1500  1500   \n",
       "unique                                                  31          10     2   \n",
       "top                                                     10         Fri    AM   \n",
       "freq                                                   293         279  1141   \n",
       "mean         750.5        15.628667  82.610378                                 \n",
       "std     433.157015        12.926543  12.765859                                 \n",
       "min            1.0              1.0      55.41                                 \n",
       "25%         375.75              8.0      73.49                                 \n",
       "50%          750.5             12.0      80.76                                 \n",
       "75%        1125.25             19.0      89.52                                 \n",
       "max         1500.0            148.0     170.52                                 \n",
       "\n",
       "       category  attended  \n",
       "count      1500    1500.0  \n",
       "unique        6            \n",
       "top        HIIT            \n",
       "freq        667            \n",
       "mean             0.302667  \n",
       "std              0.459565  \n",
       "min                   0.0  \n",
       "25%                   0.0  \n",
       "50%                   0.0  \n",
       "75%                   1.0  \n",
       "max                   1.0  "
      ]
     },
     "execution_count": 8,
     "metadata": {},
     "output_type": "execute_result"
    }
   ],
   "source": [
    "# dataframe description post-corrections\n",
    "\n",
    "df.describe(include='all').fillna('')"
   ]
  },
  {
   "cell_type": "markdown",
   "id": "8bdbb136",
   "metadata": {},
   "source": [
    "## 1. For every column in the data:"
   ]
  },
  {
   "cell_type": "markdown",
   "id": "4141f981",
   "metadata": {},
   "source": [
    "### a. State whether the values match the description given in the table above."
   ]
  },
  {
   "cell_type": "code",
   "execution_count": null,
   "id": "ddb504f5",
   "metadata": {},
   "outputs": [],
   "source": []
  },
  {
   "cell_type": "markdown",
   "id": "e2e0a630",
   "metadata": {},
   "source": [
    "### b. State the number of missing values in the column."
   ]
  },
  {
   "cell_type": "code",
   "execution_count": null,
   "id": "fb11507d",
   "metadata": {},
   "outputs": [],
   "source": []
  },
  {
   "cell_type": "markdown",
   "id": "5874fd0d",
   "metadata": {},
   "source": [
    "### c. Describe what you did to make values match the description if they did not match."
   ]
  },
  {
   "cell_type": "code",
   "execution_count": null,
   "id": "3237d750",
   "metadata": {},
   "outputs": [],
   "source": []
  },
  {
   "cell_type": "markdown",
   "id": "bba836ad",
   "metadata": {},
   "source": [
    "## 2. Create a visualization that shows how many bookings attended the class. Use the visualization to:"
   ]
  },
  {
   "cell_type": "markdown",
   "id": "a47b4886",
   "metadata": {},
   "source": [
    "### a. State which category of the variable attended has the most observations"
   ]
  },
  {
   "cell_type": "code",
   "execution_count": null,
   "id": "27f7ceac",
   "metadata": {},
   "outputs": [],
   "source": []
  },
  {
   "cell_type": "markdown",
   "id": "5a54d25d",
   "metadata": {},
   "source": [
    "### b. Explain whether the observations are balanced across categories of the variable attended"
   ]
  },
  {
   "cell_type": "code",
   "execution_count": null,
   "id": "bb7cd56c",
   "metadata": {},
   "outputs": [],
   "source": []
  },
  {
   "cell_type": "markdown",
   "id": "4f45146b",
   "metadata": {},
   "source": [
    "## 3. Describe the distribution of the number of months as a member. Your answer must include a visualization that shows the distribution."
   ]
  },
  {
   "cell_type": "code",
   "execution_count": null,
   "id": "7f3b2d95",
   "metadata": {},
   "outputs": [],
   "source": []
  },
  {
   "cell_type": "markdown",
   "id": "d7ad2edc",
   "metadata": {},
   "source": [
    "## 4. Describe the relationship between attendance and number of months as a member. Your answer must include a visualization to demonstrate the relationship."
   ]
  },
  {
   "cell_type": "code",
   "execution_count": null,
   "id": "40670824",
   "metadata": {},
   "outputs": [],
   "source": []
  },
  {
   "cell_type": "markdown",
   "id": "597f38fb",
   "metadata": {},
   "source": [
    "## 5. The business wants to predict whether members will attend using the data provided. State the type of machine learning problem that this is (regression/ classification/clustering)."
   ]
  },
  {
   "cell_type": "code",
   "execution_count": null,
   "id": "57b80a4e",
   "metadata": {},
   "outputs": [],
   "source": []
  },
  {
   "cell_type": "markdown",
   "id": "d79f6703",
   "metadata": {},
   "source": [
    "## 6. Fit a baseline model to predict whether members will attend using the data provided. You must include your code."
   ]
  },
  {
   "cell_type": "code",
   "execution_count": null,
   "id": "d8d49d75",
   "metadata": {},
   "outputs": [],
   "source": []
  },
  {
   "cell_type": "markdown",
   "id": "f5ef1721",
   "metadata": {},
   "source": [
    "## 7. Fit a comparison model to predict whether members will attend using the data provided. You must include your code."
   ]
  },
  {
   "cell_type": "code",
   "execution_count": null,
   "id": "d85e761a",
   "metadata": {},
   "outputs": [],
   "source": []
  },
  {
   "cell_type": "markdown",
   "id": "66a77064",
   "metadata": {},
   "source": [
    "## 8. Explain why you chose the two models used in parts 6 and 7."
   ]
  },
  {
   "cell_type": "code",
   "execution_count": null,
   "id": "fcc62749",
   "metadata": {},
   "outputs": [],
   "source": []
  },
  {
   "cell_type": "markdown",
   "id": "7ae013f9",
   "metadata": {},
   "source": [
    "## 9. Compare the performance of the two models used in parts 6 and 7, using any method suitable. You must include your code."
   ]
  },
  {
   "cell_type": "code",
   "execution_count": null,
   "id": "a10ad881",
   "metadata": {},
   "outputs": [],
   "source": []
  },
  {
   "cell_type": "markdown",
   "id": "06edbe30",
   "metadata": {},
   "source": [
    "## 10. Explain which model performs better and why."
   ]
  },
  {
   "cell_type": "code",
   "execution_count": null,
   "id": "f939d50e",
   "metadata": {},
   "outputs": [],
   "source": []
  }
 ],
 "metadata": {
  "kernelspec": {
   "display_name": "Python 3 (ipykernel)",
   "language": "python",
   "name": "python3"
  },
  "language_info": {
   "codemirror_mode": {
    "name": "ipython",
    "version": 3
   },
   "file_extension": ".py",
   "mimetype": "text/x-python",
   "name": "python",
   "nbconvert_exporter": "python",
   "pygments_lexer": "ipython3",
   "version": "3.9.1"
  }
 },
 "nbformat": 4,
 "nbformat_minor": 5
}
