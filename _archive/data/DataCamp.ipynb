{
 "cells": [
  {
   "cell_type": "markdown",
   "id": "d2a6b71d",
   "metadata": {},
   "source": [
    "## Instructions\n",
    "\n",
    "● Use Python or R to perform the tasks required.\n",
    "\n",
    "● Write your solutions in the workspace provided from your certification page.\n",
    "\n",
    "● Include all of the visualizations you create to complete the tasks.\n",
    "\n",
    "● Visualizations must be visible in the published version of the workspace. Links to external visualizations will not be accepted.\n",
    "\n",
    "● You do not need to include code unless the question says you must.\n",
    "\n",
    "● You must pass all criteria to pass this exam. The full criteria can be found here.\n"
   ]
  },
  {
   "cell_type": "markdown",
   "id": "61c35db6",
   "metadata": {},
   "source": [
    "## Introduction\n",
    "GoalZone is a fitness club chain in Canada.\n",
    "\n",
    "GoalZone offers a range of fitness classes in two capacities - 25 and 15.\n",
    "\n",
    "Some classes are always fully booked. Fully booked classes often have a low attendance rate.\n",
    "\n",
    "GoalZone wants to increase the number of spaces available for classes.\n",
    "\n",
    "They want to do this by predicting whether the member will attend the class or not.\n",
    "\n",
    "If they can predict a member will not attend the class, they can make another space available.\n"
   ]
  },
  {
   "cell_type": "markdown",
   "id": "5416d3a5",
   "metadata": {},
   "source": [
    "## Initialize and load data"
   ]
  },
  {
   "cell_type": "markdown",
   "id": "a2b12f05",
   "metadata": {},
   "source": [
    "The dataset contains each record when a member registered for a fitness class."
   ]
  },
  {
   "cell_type": "code",
   "execution_count": 17,
   "id": "50e8bfe6",
   "metadata": {},
   "outputs": [],
   "source": [
    "# import all needed libraries\n",
    "\n",
    "import numpy as np\n",
    "import pandas as pd\n",
    "import matplotlib.pyplot as plt\n",
    "import seaborn as sns\n",
    "\n",
    "# read the data - contains each record when a member registered for a fitness class.\n",
    "\n",
    "df = pd.read_csv(\"fitness_class_2212.csv\")"
   ]
  },
  {
   "cell_type": "markdown",
   "id": "c5664eb5",
   "metadata": {},
   "source": [
    "## Data Validation"
   ]
  },
  {
   "cell_type": "markdown",
   "id": "e449ced8",
   "metadata": {},
   "source": [
    "**Original dataset**"
   ]
  },
  {
   "cell_type": "code",
   "execution_count": 18,
   "id": "01eeb8bd",
   "metadata": {},
   "outputs": [
    {
     "name": "stdout",
     "output_type": "stream",
     "text": [
      "\n",
      "The dataset has 1500 rows and 8 columns.\n",
      "\n"
     ]
    },
    {
     "data": {
      "text/html": [
       "<div>\n",
       "<style scoped>\n",
       "    .dataframe tbody tr th:only-of-type {\n",
       "        vertical-align: middle;\n",
       "    }\n",
       "\n",
       "    .dataframe tbody tr th {\n",
       "        vertical-align: top;\n",
       "    }\n",
       "\n",
       "    .dataframe thead th {\n",
       "        text-align: right;\n",
       "    }\n",
       "</style>\n",
       "<table border=\"1\" class=\"dataframe\">\n",
       "  <thead>\n",
       "    <tr style=\"text-align: right;\">\n",
       "      <th></th>\n",
       "      <th>booking_id</th>\n",
       "      <th>months_as_member</th>\n",
       "      <th>weight</th>\n",
       "      <th>days_before</th>\n",
       "      <th>day_of_week</th>\n",
       "      <th>time</th>\n",
       "      <th>category</th>\n",
       "      <th>attended</th>\n",
       "    </tr>\n",
       "  </thead>\n",
       "  <tbody>\n",
       "    <tr>\n",
       "      <th>0</th>\n",
       "      <td>1</td>\n",
       "      <td>17</td>\n",
       "      <td>79.56</td>\n",
       "      <td>8</td>\n",
       "      <td>Wed</td>\n",
       "      <td>PM</td>\n",
       "      <td>Strength</td>\n",
       "      <td>0</td>\n",
       "    </tr>\n",
       "    <tr>\n",
       "      <th>1</th>\n",
       "      <td>2</td>\n",
       "      <td>10</td>\n",
       "      <td>79.01</td>\n",
       "      <td>2</td>\n",
       "      <td>Mon</td>\n",
       "      <td>AM</td>\n",
       "      <td>HIIT</td>\n",
       "      <td>0</td>\n",
       "    </tr>\n",
       "    <tr>\n",
       "      <th>2</th>\n",
       "      <td>3</td>\n",
       "      <td>16</td>\n",
       "      <td>74.53</td>\n",
       "      <td>14</td>\n",
       "      <td>Sun</td>\n",
       "      <td>AM</td>\n",
       "      <td>Strength</td>\n",
       "      <td>0</td>\n",
       "    </tr>\n",
       "    <tr>\n",
       "      <th>3</th>\n",
       "      <td>4</td>\n",
       "      <td>5</td>\n",
       "      <td>86.12</td>\n",
       "      <td>10</td>\n",
       "      <td>Fri</td>\n",
       "      <td>AM</td>\n",
       "      <td>Cycling</td>\n",
       "      <td>0</td>\n",
       "    </tr>\n",
       "    <tr>\n",
       "      <th>4</th>\n",
       "      <td>5</td>\n",
       "      <td>15</td>\n",
       "      <td>69.29</td>\n",
       "      <td>8</td>\n",
       "      <td>Thu</td>\n",
       "      <td>AM</td>\n",
       "      <td>HIIT</td>\n",
       "      <td>0</td>\n",
       "    </tr>\n",
       "  </tbody>\n",
       "</table>\n",
       "</div>"
      ],
      "text/plain": [
       "   booking_id  months_as_member  weight days_before day_of_week time  \\\n",
       "0           1                17   79.56           8         Wed   PM   \n",
       "1           2                10   79.01           2         Mon   AM   \n",
       "2           3                16   74.53          14         Sun   AM   \n",
       "3           4                 5   86.12          10         Fri   AM   \n",
       "4           5                15   69.29           8         Thu   AM   \n",
       "\n",
       "   category  attended  \n",
       "0  Strength         0  \n",
       "1      HIIT         0  \n",
       "2  Strength         0  \n",
       "3   Cycling         0  \n",
       "4      HIIT         0  "
      ]
     },
     "execution_count": 18,
     "metadata": {},
     "output_type": "execute_result"
    }
   ],
   "source": [
    "# print the number of rows & columns\n",
    "print(\"\\nThe dataset has {} rows and {} columns.\\n\".format(df.shape[0], df.shape[1]))\n",
    "# view the first few rows\n",
    "df.head()"
   ]
  },
  {
   "cell_type": "code",
   "execution_count": 19,
   "id": "db40ee3c",
   "metadata": {},
   "outputs": [
    {
     "name": "stdout",
     "output_type": "stream",
     "text": [
      "<class 'pandas.core.frame.DataFrame'>\n",
      "RangeIndex: 1500 entries, 0 to 1499\n",
      "Data columns (total 8 columns):\n",
      " #   Column            Non-Null Count  Dtype  \n",
      "---  ------            --------------  -----  \n",
      " 0   booking_id        1500 non-null   int64  \n",
      " 1   months_as_member  1500 non-null   int64  \n",
      " 2   weight            1480 non-null   float64\n",
      " 3   days_before       1500 non-null   object \n",
      " 4   day_of_week       1500 non-null   object \n",
      " 5   time              1500 non-null   object \n",
      " 6   category          1500 non-null   object \n",
      " 7   attended          1500 non-null   int64  \n",
      "dtypes: float64(1), int64(3), object(4)\n",
      "memory usage: 93.9+ KB\n"
     ]
    }
   ],
   "source": [
    "df.info()"
   ]
  },
  {
   "cell_type": "markdown",
   "id": "a41f190e",
   "metadata": {},
   "source": [
    "**Unique Values for Categorical Variables & MAX and MIN for Numeric Values**"
   ]
  },
  {
   "cell_type": "code",
   "execution_count": 20,
   "id": "f2470abe",
   "metadata": {},
   "outputs": [
    {
     "name": "stdout",
     "output_type": "stream",
     "text": [
      "\n",
      "Unique categories:\n",
      "\n",
      "day_of_week:  ['Wed', 'Mon', 'Sun', 'Fri', 'Thu', 'Wednesday', 'Fri.', 'Tue', 'Sat', 'Monday']\n",
      "time:  ['PM', 'AM']\n",
      "category:  ['Strength', 'HIIT', 'Cycling', 'Yoga', '-', 'Aqua']\n",
      "attended:  [0, 1]\n",
      "\n",
      "Numeric values:\n",
      "\n",
      "Max & min booking id:  1500 & 1\n",
      "Max & min months_as_member:  148 & 1\n",
      "Max & min weight:  170.52 & 55.41\n",
      "Max & min days_before:  9 & 1 \n",
      "\n"
     ]
    }
   ],
   "source": [
    "# datasets columns with their unique and numeric values each\n",
    "\n",
    "print(\"\\nUnique categories:\\n\")\n",
    "print(\"day_of_week: \", df.day_of_week.unique().tolist())\n",
    "print(\"time: \", df.time.unique().tolist())\n",
    "print(\"category: \", df.category.unique().tolist())\n",
    "print(\"attended: \", df.attended.unique().tolist())\n",
    "\n",
    "print(\"\\nNumeric values:\\n\")\n",
    "print(\"Max & min booking id: \", df.booking_id.max(), \"&\", df.booking_id.min())\n",
    "print(\"Max & min months_as_member: \", df.months_as_member.max(), \"&\", df.months_as_member.min())\n",
    "print(\"Max & min weight: \", df.weight.max(), \"&\", df.weight.min())\n",
    "print(\"Max & min days_before: \", df.days_before.max(), \"&\", df.days_before.min(), \"\\n\")"
   ]
  },
  {
   "cell_type": "markdown",
   "id": "8bdbb136",
   "metadata": {},
   "source": [
    "## 1. For every column in the data:"
   ]
  },
  {
   "cell_type": "markdown",
   "id": "4141f981",
   "metadata": {},
   "source": [
    "### a. State whether the values match the description given in the table above.\n",
    "\n",
    "Based on the above data analysis, the following can be said:\n",
    "\n",
    "| Column Name      | Criteria                                                                                                                                                            | Data matches the description |\n",
    "| :---             | :---                                                                                                                                                                | :---\n",
    "| booking_id       | Nominal. The unique identifier of the booking. Missing values are not possible due to the database structure.                                                       | Yes\n",
    "| months_as_member | Discrete. The number of months as this fitness club member, minimum 1 month. Replace missing values with the overall average month.                                 | Yes\n",
    "| weight           | Continuous. The member's weight in kg, rounded to 2 decimal places. The minimum possible value is 40.00 kg. Replace missing values with the overall average weight. | Yes, but missing values\n",
    "| days_before      | Discrete. The number of days before the class the member registered, minimum 1 day. Replace missing values with 0.                                                  | Yes\n",
    "| day_of_week      | Ordinal. The day of the week of the class. One of “Mon”, “Tue”, “Wed”, “Thu”, “Fri”, “Sat” or “Sun”. Replace missing values with “unknown”.                         | Yes\n",
    "| time             | Ordinal. The time of day of the class. Either “AM” or “PM”. Replace missing values with “unknown”.                                                                  | Yes\n",
    "| category         | Nominal. The category of the fitness class. One of “Yoga”, “Aqua”, “Strength”, “HIIT”, or “Cycling”. Replace missing values with “unknown”.                         | Yes, but missing values\n",
    "| attended         | Nominal. Whether the member attended the class (1) or not (0). Missing values should be removed.                                                                    | Yes"
   ]
  },
  {
   "cell_type": "markdown",
   "id": "2c86d3d7",
   "metadata": {},
   "source": [
    "Note: mangler at verificere at alle weight's rows har 2 decimal places."
   ]
  },
  {
   "cell_type": "markdown",
   "id": "e2e0a630",
   "metadata": {},
   "source": [
    "### b. State the number of missing values in the column.\n",
    "\n",
    "As seen below, the _weight_ column is missing values in 20 rows."
   ]
  },
  {
   "cell_type": "code",
   "execution_count": 21,
   "id": "fb11507d",
   "metadata": {},
   "outputs": [
    {
     "data": {
      "text/plain": [
       "booking_id           0\n",
       "months_as_member     0\n",
       "weight              20\n",
       "days_before          0\n",
       "day_of_week          0\n",
       "time                 0\n",
       "category             0\n",
       "attended             0\n",
       "dtype: int64"
      ]
     },
     "execution_count": 21,
     "metadata": {},
     "output_type": "execute_result"
    }
   ],
   "source": [
    "# the counts of missing values in each column\n",
    "df.isna().sum()"
   ]
  },
  {
   "cell_type": "markdown",
   "id": "d4c5c884",
   "metadata": {},
   "source": [
    "It can also be seen in [22] that _category_ has \"-\" values."
   ]
  },
  {
   "cell_type": "markdown",
   "id": "5874fd0d",
   "metadata": {},
   "source": [
    "### c. Describe what you did to make values match the description if they did not match.\n",
    "\n",
    "The missing values in _weight_ are replaced with the overall average weight"
   ]
  },
  {
   "cell_type": "code",
   "execution_count": 22,
   "id": "3237d750",
   "metadata": {},
   "outputs": [
    {
     "data": {
      "text/plain": [
       "booking_id          0\n",
       "months_as_member    0\n",
       "weight              0\n",
       "days_before         0\n",
       "day_of_week         0\n",
       "time                0\n",
       "category            0\n",
       "attended            0\n",
       "dtype: int64"
      ]
     },
     "execution_count": 22,
     "metadata": {},
     "output_type": "execute_result"
    }
   ],
   "source": [
    "df.weight.fillna(df.weight.mean(), inplace=True);\n",
    "df.isna().sum()"
   ]
  },
  {
   "cell_type": "markdown",
   "id": "75455115",
   "metadata": {},
   "source": [
    "The \"-\" values in _category_ are replaced with \"unknown\"."
   ]
  },
  {
   "cell_type": "code",
   "execution_count": 23,
   "id": "f59867e7",
   "metadata": {},
   "outputs": [
    {
     "data": {
      "text/plain": [
       "['Strength', 'HIIT', 'Cycling', 'Yoga', 'Unknown', 'Aqua']"
      ]
     },
     "execution_count": 23,
     "metadata": {},
     "output_type": "execute_result"
    }
   ],
   "source": [
    "df.category.replace(to_replace=\"-\", value=\"Unknown\", inplace=True);\n",
    "df.category.unique().tolist()"
   ]
  },
  {
   "cell_type": "markdown",
   "id": "bba836ad",
   "metadata": {},
   "source": [
    "## 2. Create a visualization that shows how many bookings attended the class. Use the visualization to:"
   ]
  },
  {
   "cell_type": "markdown",
   "id": "a47b4886",
   "metadata": {},
   "source": [
    "### a. State which category of the variable attended has the most observations\n",
    "\n",
    "As seen the bar plot below, the HIIT category has the most attendance."
   ]
  },
  {
   "cell_type": "code",
   "execution_count": 24,
   "id": "27f7ceac",
   "metadata": {
    "scrolled": true
   },
   "outputs": [
    {
     "data": {
      "image/png": "[encoded data removed]",
      "text/plain": [
       "<Figure size 640x480 with 1 Axes>"
      ]
     },
     "metadata": {},
     "output_type": "display_data"
    }
   ],
   "source": [
    "# a bar chart for counts of each day classes stayed full\n",
    "category_attendance = df.groupby('category')['attended'].sum().reset_index()\n",
    "\n",
    "sns.barplot(x='category', y='attended', data=category_attendance)\n",
    "plt.title('Attendance Sum for Each Category')\n",
    "plt.xlabel('Category')\n",
    "plt.ylabel('Attendance Sum')\n",
    "plt.show()"
   ]
  },
  {
   "cell_type": "markdown",
   "id": "5a54d25d",
   "metadata": {},
   "source": [
    "### b. Explain whether the observations are balanced across categories of the variable attended"
   ]
  },
  {
   "cell_type": "markdown",
   "id": "fb5b17bc",
   "metadata": {},
   "source": [
    "From the bar plot, is is seen that the data is NOT balanced across categories, as there is significant difference between the most and least popular category."
   ]
  },
  {
   "cell_type": "markdown",
   "id": "4f45146b",
   "metadata": {},
   "source": [
    "## 3. Describe the distribution of the number of months as a member. Your answer must include a visualization that shows the distribution."
   ]
  },
  {
   "cell_type": "code",
   "execution_count": 25,
   "id": "7f3b2d95",
   "metadata": {
    "scrolled": true
   },
   "outputs": [
    {
     "data": {
      "image/png": "[encoded data removed]",
      "text/plain": [
       "<Figure size 571.5x500 with 1 Axes>"
      ]
     },
     "metadata": {},
     "output_type": "display_data"
    }
   ],
   "source": [
    "sns.catplot(data=df, \n",
    "            x='months_as_member', \n",
    "            y='category', \n",
    "            hue='time', \n",
    "            kind=\"violin\", \n",
    "            split=True, \n",
    "            palette=[\"C0\", \"C1\"])\n",
    "\n",
    "plt.title('PM HIIT & Cycling have more absentees \\nthan AM classes (in bigger classes)');"
   ]
  },
  {
   "cell_type": "markdown",
   "id": "d7ad2edc",
   "metadata": {},
   "source": [
    "## 4. Describe the relationship between attendance and number of months as a member. Your answer must include a visualization to demonstrate the relationship."
   ]
  },
  {
   "cell_type": "code",
   "execution_count": 26,
   "id": "40670824",
   "metadata": {},
   "outputs": [
    {
     "data": {
      "image/png": "[encoded data removed]",
      "text/plain": [
       "<Figure size 640x480 with 1 Axes>"
      ]
     },
     "metadata": {},
     "output_type": "display_data"
    }
   ],
   "source": [
    "monthasmember_attendance = df.groupby('months_as_member')['attended'].sum().reset_index()\n",
    "\n",
    "sns.scatterplot(x='months_as_member', y='attended', data=monthasmember_attendance)\n",
    "plt.title('Attendance vs Months as a Member')\n",
    "plt.xlabel('Months as a Member')\n",
    "plt.ylabel('Attendance')\n",
    "plt.show()"
   ]
  },
  {
   "cell_type": "markdown",
   "id": "597f38fb",
   "metadata": {},
   "source": [
    "## 5. The business wants to predict whether members will attend using the data provided. State the type of machine learning problem that this is (regression/ classification/clustering)."
   ]
  },
  {
   "cell_type": "markdown",
   "id": "133ac650",
   "metadata": {},
   "source": [
    "Answer: Regression.\n",
    "\n",
    "![image.png](https://www.researchgate.net/profile/Frank-Nielsen-3/publication/314626729/figure/fig1/AS:810830673244160@1570328505835/The-three-pillars-of-learning-in-data-science-clustering-flat-or-hierarchical.ppm)"
   ]
  },
  {
   "cell_type": "markdown",
   "id": "d79f6703",
   "metadata": {},
   "source": [
    "## 6. Fit a baseline model to predict whether members will attend using the data provided. You must include your code.\n",
    "\n",
    "**My Prediction Models**\n",
    "\n",
    "* **Regression Problem:** Predicting the attendance rate for each class is a regression problem in machine learning.\n",
    "* I will use the **LinearRegression** as baseline model for its simplicity.\n",
    "* Then, I will use the **LassoCV** model as a comparison model to see if cross validation and reduction of unnecessary parameters in the model can help produce better model than LinearRegression."
   ]
  },
  {
   "cell_type": "code",
   "execution_count": 29,
   "id": "d8d49d75",
   "metadata": {
    "scrolled": true
   },
   "outputs": [
    {
     "data": {
      "text/html": [
       "<div>\n",
       "<style scoped>\n",
       "    .dataframe tbody tr th:only-of-type {\n",
       "        vertical-align: middle;\n",
       "    }\n",
       "\n",
       "    .dataframe tbody tr th {\n",
       "        vertical-align: top;\n",
       "    }\n",
       "\n",
       "    .dataframe thead th {\n",
       "        text-align: right;\n",
       "    }\n",
       "</style>\n",
       "<table border=\"1\" class=\"dataframe\">\n",
       "  <thead>\n",
       "    <tr style=\"text-align: right;\">\n",
       "      <th></th>\n",
       "      <th>booking_id</th>\n",
       "      <th>months_as_member</th>\n",
       "      <th>weight</th>\n",
       "      <th>attended</th>\n",
       "      <th>days_before_1</th>\n",
       "      <th>days_before_1 days</th>\n",
       "      <th>days_before_10</th>\n",
       "      <th>days_before_10 days</th>\n",
       "      <th>days_before_11</th>\n",
       "      <th>days_before_12</th>\n",
       "      <th>...</th>\n",
       "      <th>day_of_week_Wed</th>\n",
       "      <th>day_of_week_Wednesday</th>\n",
       "      <th>time_AM</th>\n",
       "      <th>time_PM</th>\n",
       "      <th>category_Aqua</th>\n",
       "      <th>category_Cycling</th>\n",
       "      <th>category_HIIT</th>\n",
       "      <th>category_Strength</th>\n",
       "      <th>category_Unknown</th>\n",
       "      <th>category_Yoga</th>\n",
       "    </tr>\n",
       "  </thead>\n",
       "  <tbody>\n",
       "    <tr>\n",
       "      <th>0</th>\n",
       "      <td>1</td>\n",
       "      <td>17</td>\n",
       "      <td>79.56</td>\n",
       "      <td>0</td>\n",
       "      <td>0</td>\n",
       "      <td>0</td>\n",
       "      <td>0</td>\n",
       "      <td>0</td>\n",
       "      <td>0</td>\n",
       "      <td>0</td>\n",
       "      <td>...</td>\n",
       "      <td>1</td>\n",
       "      <td>0</td>\n",
       "      <td>0</td>\n",
       "      <td>1</td>\n",
       "      <td>0</td>\n",
       "      <td>0</td>\n",
       "      <td>0</td>\n",
       "      <td>1</td>\n",
       "      <td>0</td>\n",
       "      <td>0</td>\n",
       "    </tr>\n",
       "    <tr>\n",
       "      <th>1</th>\n",
       "      <td>2</td>\n",
       "      <td>10</td>\n",
       "      <td>79.01</td>\n",
       "      <td>0</td>\n",
       "      <td>0</td>\n",
       "      <td>0</td>\n",
       "      <td>0</td>\n",
       "      <td>0</td>\n",
       "      <td>0</td>\n",
       "      <td>0</td>\n",
       "      <td>...</td>\n",
       "      <td>0</td>\n",
       "      <td>0</td>\n",
       "      <td>1</td>\n",
       "      <td>0</td>\n",
       "      <td>0</td>\n",
       "      <td>0</td>\n",
       "      <td>1</td>\n",
       "      <td>0</td>\n",
       "      <td>0</td>\n",
       "      <td>0</td>\n",
       "    </tr>\n",
       "    <tr>\n",
       "      <th>2</th>\n",
       "      <td>3</td>\n",
       "      <td>16</td>\n",
       "      <td>74.53</td>\n",
       "      <td>0</td>\n",
       "      <td>0</td>\n",
       "      <td>0</td>\n",
       "      <td>0</td>\n",
       "      <td>0</td>\n",
       "      <td>0</td>\n",
       "      <td>0</td>\n",
       "      <td>...</td>\n",
       "      <td>0</td>\n",
       "      <td>0</td>\n",
       "      <td>1</td>\n",
       "      <td>0</td>\n",
       "      <td>0</td>\n",
       "      <td>0</td>\n",
       "      <td>0</td>\n",
       "      <td>1</td>\n",
       "      <td>0</td>\n",
       "      <td>0</td>\n",
       "    </tr>\n",
       "    <tr>\n",
       "      <th>3</th>\n",
       "      <td>4</td>\n",
       "      <td>5</td>\n",
       "      <td>86.12</td>\n",
       "      <td>0</td>\n",
       "      <td>0</td>\n",
       "      <td>0</td>\n",
       "      <td>1</td>\n",
       "      <td>0</td>\n",
       "      <td>0</td>\n",
       "      <td>0</td>\n",
       "      <td>...</td>\n",
       "      <td>0</td>\n",
       "      <td>0</td>\n",
       "      <td>1</td>\n",
       "      <td>0</td>\n",
       "      <td>0</td>\n",
       "      <td>1</td>\n",
       "      <td>0</td>\n",
       "      <td>0</td>\n",
       "      <td>0</td>\n",
       "      <td>0</td>\n",
       "    </tr>\n",
       "    <tr>\n",
       "      <th>4</th>\n",
       "      <td>5</td>\n",
       "      <td>15</td>\n",
       "      <td>69.29</td>\n",
       "      <td>0</td>\n",
       "      <td>0</td>\n",
       "      <td>0</td>\n",
       "      <td>0</td>\n",
       "      <td>0</td>\n",
       "      <td>0</td>\n",
       "      <td>0</td>\n",
       "      <td>...</td>\n",
       "      <td>0</td>\n",
       "      <td>0</td>\n",
       "      <td>1</td>\n",
       "      <td>0</td>\n",
       "      <td>0</td>\n",
       "      <td>0</td>\n",
       "      <td>1</td>\n",
       "      <td>0</td>\n",
       "      <td>0</td>\n",
       "      <td>0</td>\n",
       "    </tr>\n",
       "  </tbody>\n",
       "</table>\n",
       "<p>5 rows × 53 columns</p>\n",
       "</div>"
      ],
      "text/plain": [
       "   booking_id  months_as_member  weight  attended  days_before_1  \\\n",
       "0           1                17   79.56         0              0   \n",
       "1           2                10   79.01         0              0   \n",
       "2           3                16   74.53         0              0   \n",
       "3           4                 5   86.12         0              0   \n",
       "4           5                15   69.29         0              0   \n",
       "\n",
       "   days_before_1 days  days_before_10  days_before_10 days  days_before_11  \\\n",
       "0                   0               0                    0               0   \n",
       "1                   0               0                    0               0   \n",
       "2                   0               0                    0               0   \n",
       "3                   0               1                    0               0   \n",
       "4                   0               0                    0               0   \n",
       "\n",
       "   days_before_12  ...  day_of_week_Wed  day_of_week_Wednesday  time_AM  \\\n",
       "0               0  ...                1                      0        0   \n",
       "1               0  ...                0                      0        1   \n",
       "2               0  ...                0                      0        1   \n",
       "3               0  ...                0                      0        1   \n",
       "4               0  ...                0                      0        1   \n",
       "\n",
       "   time_PM  category_Aqua  category_Cycling  category_HIIT  category_Strength  \\\n",
       "0        1              0                 0              0                  1   \n",
       "1        0              0                 0              1                  0   \n",
       "2        0              0                 0              0                  1   \n",
       "3        0              0                 1              0                  0   \n",
       "4        0              0                 0              1                  0   \n",
       "\n",
       "   category_Unknown  category_Yoga  \n",
       "0                 0              0  \n",
       "1                 0              0  \n",
       "2                 0              0  \n",
       "3                 0              0  \n",
       "4                 0              0  \n",
       "\n",
       "[5 rows x 53 columns]"
      ]
     },
     "execution_count": 29,
     "metadata": {},
     "output_type": "execute_result"
    }
   ],
   "source": [
    "# Model Fitting\n",
    "# LinearRegression, as a baseline model\n",
    "# LassoCV, as a comparison model\n",
    "\n",
    "# create dummy variables for category data\n",
    "data = pd.get_dummies(df)\n",
    "data.head()"
   ]
  },
  {
   "cell_type": "markdown",
   "id": "1754db40",
   "metadata": {},
   "source": [
    "**Splitting the Dataset into Train & Test Datasets**"
   ]
  },
  {
   "cell_type": "code",
   "execution_count": 32,
   "id": "04bd4c9c",
   "metadata": {},
   "outputs": [],
   "source": [
    "# import needed libraries\n",
    "\n",
    "from sklearn import model_selection\n",
    "from sklearn.linear_model import LinearRegression, LassoCV\n",
    "from sklearn.model_selection import train_test_split\n",
    "\n",
    "# split the data into X & y\n",
    "\n",
    "X = data.drop('attended', axis=1)\n",
    "y = data['attended']\n",
    "\n",
    "# split the data to train and test\n",
    "X_train, X_test, y_train, y_test = train_test_split(X,y,test_size=0.4,random_state=2023)"
   ]
  },
  {
   "cell_type": "markdown",
   "id": "be4efaef",
   "metadata": {},
   "source": [
    "**Method 1: Linear Regression Model**"
   ]
  },
  {
   "cell_type": "code",
   "execution_count": 34,
   "id": "a11aadca",
   "metadata": {},
   "outputs": [],
   "source": [
    "# train a simple linear regression model\n",
    "\n",
    "linreg = LinearRegression()\n",
    "linreg.fit(X_train, y_train)\n",
    "\n",
    "# predict\n",
    "\n",
    "linreg_y_pred = linreg.predict(X_test)"
   ]
  },
  {
   "cell_type": "markdown",
   "id": "a1b6b9ec",
   "metadata": {},
   "source": [
    "**Method 2: Lasso Regression with CV Model**"
   ]
  },
  {
   "cell_type": "code",
   "execution_count": 35,
   "id": "f677c1f0",
   "metadata": {},
   "outputs": [],
   "source": [
    "# train a lasso model\n",
    "\n",
    "lasso = LassoCV(n_alphas=10, cv=50)\n",
    "lasso.fit(X_train, y_train)\n",
    "\n",
    "# predict\n",
    "\n",
    "lasso_y_pred = lasso.predict(X_test)"
   ]
  },
  {
   "cell_type": "markdown",
   "id": "59045a4c",
   "metadata": {},
   "source": [
    "**Model Evaluation**\n",
    "\n",
    "Evaluating My Models\n",
    "\n",
    "* I will use  R2 Score as a metric to compare both models.  R2 Score is a simple and interpretable metric to evaluate regression models. A  R2 score can be between 0 to 1. Close to 1 score shows better fitted model.\n",
    "* Finding: Using the  R2 Score, the LinearRegression model scored around 70% while the LassoCV model scored around 68%. Here, the LinearRegression model wins, but with slight lead over the LassoCV model."
   ]
  },
  {
   "cell_type": "code",
   "execution_count": 36,
   "id": "4d2a5509",
   "metadata": {},
   "outputs": [
    {
     "name": "stdout",
     "output_type": "stream",
     "text": [
      "\n",
      "LinearRegression r2 score: -1.6030875430368554\n",
      "\n",
      "LassoCV r2 score: -1.9500199571955346\n"
     ]
    }
   ],
   "source": [
    "# Model Evaluation\n",
    "# R2 score, as a metric\n",
    "\n",
    "# R2 score which lies between 0 to 1. Close to 1 score shows better fitted model\n",
    "\n",
    "from sklearn.metrics import r2_score\n",
    "print('\\nLinearRegression r2 score:', r2_score(linreg_y_pred, y_test))\n",
    "print('\\nLassoCV r2 score:', r2_score(lasso_y_pred, y_test))"
   ]
  },
  {
   "cell_type": "markdown",
   "id": "f5ef1721",
   "metadata": {},
   "source": [
    "## 7. Fit a comparison model to predict whether members will attend using the data provided. You must include your code."
   ]
  },
  {
   "cell_type": "code",
   "execution_count": null,
   "id": "d85e761a",
   "metadata": {},
   "outputs": [],
   "source": []
  },
  {
   "cell_type": "markdown",
   "id": "66a77064",
   "metadata": {},
   "source": [
    "## 8. Explain why you chose the two models used in parts 6 and 7."
   ]
  },
  {
   "cell_type": "code",
   "execution_count": null,
   "id": "fcc62749",
   "metadata": {},
   "outputs": [],
   "source": []
  },
  {
   "cell_type": "markdown",
   "id": "7ae013f9",
   "metadata": {},
   "source": [
    "## 9. Compare the performance of the two models used in parts 6 and 7, using any method suitable. You must include your code."
   ]
  },
  {
   "cell_type": "code",
   "execution_count": null,
   "id": "a10ad881",
   "metadata": {},
   "outputs": [],
   "source": []
  },
  {
   "cell_type": "markdown",
   "id": "06edbe30",
   "metadata": {},
   "source": [
    "## 10. Explain which model performs better and why."
   ]
  },
  {
   "cell_type": "code",
   "execution_count": null,
   "id": "f939d50e",
   "metadata": {},
   "outputs": [],
   "source": []
  }
 ],
 "metadata": {
  "kernelspec": {
   "display_name": "Python 3 (ipykernel)",
   "language": "python",
   "name": "python3"
  },
  "language_info": {
   "codemirror_mode": {
    "name": "ipython",
    "version": 3
   },
   "file_extension": ".py",
   "mimetype": "text/x-python",
   "name": "python",
   "nbconvert_exporter": "python",
   "pygments_lexer": "ipython3",
   "version": "3.9.1"
  }
 },
 "nbformat": 4,
 "nbformat_minor": 5
}
